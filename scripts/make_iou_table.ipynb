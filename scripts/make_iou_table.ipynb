{
 "cells": [
  {
   "cell_type": "code",
   "execution_count": 2,
   "metadata": {},
   "outputs": [],
   "source": [
    "import pandas as pd\n",
    "import numpy as np"
   ]
  },
  {
   "cell_type": "code",
   "execution_count": 34,
   "metadata": {},
   "outputs": [],
   "source": [
    "iou_0 = pd.read_csv(\"/home/thesis/marx/wilson_gen/results/iou_0.csv\")\n",
    "# print(iou_0.head())\n",
    "iou_1 = pd.read_csv(\"/home/thesis/marx/wilson_gen/results/iou_1.csv\")\n",
    "# print(iou_1.head())\n",
    "base_models = [\"base (ov)\", \"base (dj)\"]\n",
    "incr_models = [\"gen (dj)\", \"gen (ov)\", \"voc (ov)\", \"voc (dj)\"]"
   ]
  },
  {
   "cell_type": "code",
   "execution_count": 35,
   "metadata": {},
   "outputs": [
    {
     "data": {
      "text/plain": [
       "array([0.94563449, 0.87320039, 0.39739588, 0.88066116, 0.72650121,\n",
       "       0.84748707, 0.83182728, 0.86355662, 0.76818749, 0.35106881,\n",
       "       0.53097317])"
      ]
     },
     "execution_count": 35,
     "metadata": {},
     "output_type": "execute_result"
    }
   ],
   "source": [
    "iou_0.to_numpy()[0]"
   ]
  },
  {
   "cell_type": "code",
   "execution_count": 36,
   "metadata": {},
   "outputs": [
    {
     "name": "stdout",
     "output_type": "stream",
     "text": [
      "\\begin{center}\n",
      "    \\begin{tabular}{|c|cccccccccc|cccccccccc|cc|c|}\n",
      "        \\hline\n",
      "        model & aeroplane & bicycle & bird & boat & bottle & bus & car & cat & chair & cow & dining table & dog & horse & motorbike & person & potted plant & sheep & sofa & train & tv\\/monitor & old classes & new classes & all\\\\\n",
      "        \\hline\n",
      "        base (ov) & 87.32 & 39.74 & 88.07 & 72.65 & 84.75 & 83.18 & 86.36 & 76.82 & 35.11 & 53.1 & - & - & - & - & - & - & - & - & - & - & 70.71 & nan & 70.71 \\\\\n",
      "        base (dj) & 69.85 & 21.3 & 81.93 & 58.59 & 81.71 & 70.12 & 62.93 & 54.64 & 22.33 & 32.12 & - & - & - & - & - & - & - & - & - & - & 55.55 & nan & 55.55 \\\\\n",
      "        \\hline\n",
      "        gen (dj) & 87.22 & 32.85 & 88.31 & 69.76 & 82.97 & 78.44 & 73.2 & 78.06 & 26.38 & 55.53 & 30.57 & 67.63 & 44.53 & 62.01 & 62.88 & 45.14 & 67.81 & 34.43 & 62.87 & 53.03 & 67.27 & 53.09 & 60.18 \\\\\n",
      "        gen (ov) & 85.0 & 37.76 & 88.9 & 68.92 & 83.27 & 79.17 & 83.48 & 87.2 & 32.85 & 69.69 & 31.9 & 79.87 & 65.14 & 74.19 & 62.67 & 42.46 & 67.08 & 35.88 & 56.15 & 53.26 & 71.62 & 56.86 & 64.24 \\\\\n",
      "        voc (ov) & 79.96 & 37.19 & 86.38 & 63.76 & 82.15 & 78.68 & 84.68 & 86.54 & 34.91 & 68.96 & 30.05 & 78.68 & 63.77 & 75.37 & 60.26 & 41.58 & 65.7 & 37.52 & 56.45 & 54.74 & 70.32 & 56.41 & 63.36 \\\\\n",
      "        voc (dj) & 80.46 & 32.18 & 86.89 & 56.64 & 82.13 & 77.56 & 71.06 & 76.63 & 27.43 & 54.56 & 29.63 & 66.15 & 41.42 & 62.95 & 59.9 & 43.49 & 64.26 & 36.06 & 64.59 & 54.28 & 64.55 & 52.27 & 58.41 \\\\\n",
      "        \\hline\n",
      "    \\end{tabular}\n",
      "\\end{center}\n"
     ]
    },
    {
     "name": "stderr",
     "output_type": "stream",
     "text": [
      "/home/thesis/miniconda3/envs/combined_env9/lib/python3.8/site-packages/numpy/core/fromnumeric.py:3432: RuntimeWarning: Mean of empty slice.\n",
      "  return _methods._mean(a, axis=axis, dtype=dtype,\n",
      "/home/thesis/miniconda3/envs/combined_env9/lib/python3.8/site-packages/numpy/core/_methods.py:190: RuntimeWarning: invalid value encountered in double_scalars\n",
      "  ret = ret.dtype.type(ret / rcount)\n"
     ]
    }
   ],
   "source": [
    "print(\"\\\\begin{center}\")\n",
    "print(\"    \\\\begin{tabular}{|c|cccccccccc|cccccccccc|cc|c|}\")\n",
    "print(\"        \\hline\")\n",
    "print(\"        model & aeroplane & bicycle & bird & boat & bottle & bus & car & cat & chair & cow & dining table & dog & horse & motorbike & person & potted plant & sheep & sofa & train & tv\\/monitor & old classes & new classes & all\\\\\\\\\")\n",
    "print(\"        \\hline\")\n",
    "for i, i0 in enumerate(iou_0.to_numpy()):\n",
    "    i0 = i0[1:]\n",
    "    print(f\"        {base_models[i]} \", end=\"\")\n",
    "    for j, val in enumerate(i0):\n",
    "        print(f\"& {np.round(val * 100, 2)} \", end=\"\")\n",
    "    for j in range(10):\n",
    "        print(f\"& - \", end=\"\")\n",
    "    print(f\"& {np.round(np.mean(i0[:10]) * 100, 2)} \", end=\"\")\n",
    "    print(f\"& {np.round(np.mean(i0[10:]) * 100, 2)} \", end=\"\")\n",
    "    print(f\"& {np.round(np.mean(i0) * 100, 2)} \", end=\"\")\n",
    "    print(\"\\\\\\\\\")\n",
    "print(\"        \\hline\")\n",
    "for i, i1 in enumerate(iou_1.to_numpy()):\n",
    "    i1 = i1[1:]\n",
    "    print(f\"        {incr_models[i]} \", end=\"\")\n",
    "    for j, val in enumerate(i1):\n",
    "        print(f\"& {np.round(val * 100, 2)} \", end=\"\")\n",
    "    print(f\"& {np.round(np.mean(i1[:10]) * 100, 2)} \", end=\"\")\n",
    "    print(f\"& {np.round(np.mean(i1[10:]) * 100, 2)} \", end=\"\")\n",
    "    print(f\"& {np.round(np.mean(i1) * 100, 2)} \", end=\"\")\n",
    "    print(\"\\\\\\\\\")\n",
    "print(\"        \\hline\")\n",
    "print(\"    \\\\end{tabular}\")\n",
    "print(\"\\\\end{center}\")"
   ]
  },
  {
   "cell_type": "code",
   "execution_count": null,
   "metadata": {},
   "outputs": [],
   "source": []
  }
 ],
 "metadata": {
  "kernelspec": {
   "display_name": "combined_env9",
   "language": "python",
   "name": "python3"
  },
  "language_info": {
   "codemirror_mode": {
    "name": "ipython",
    "version": 3
   },
   "file_extension": ".py",
   "mimetype": "text/x-python",
   "name": "python",
   "nbconvert_exporter": "python",
   "pygments_lexer": "ipython3",
   "version": "3.8.20"
  }
 },
 "nbformat": 4,
 "nbformat_minor": 2
}

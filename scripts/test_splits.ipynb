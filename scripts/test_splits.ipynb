{
 "cells": [
  {
   "cell_type": "code",
   "execution_count": 2,
   "metadata": {},
   "outputs": [],
   "source": [
    "import os\n",
    "import numpy as np"
   ]
  },
  {
   "cell_type": "code",
   "execution_count": 3,
   "metadata": {},
   "outputs": [],
   "source": [
    "os.chdir(\"/home/thesis/marx/wilson_gen/WILSON\")\n",
    "# os.listdir()"
   ]
  },
  {
   "cell_type": "code",
   "execution_count": 4,
   "metadata": {},
   "outputs": [],
   "source": [
    "def get_n_common(d1, d2):\n",
    "    names1 = []\n",
    "    for ind in d1.dataset.indices:\n",
    "        names1.append(d1.dataset.images[ind][0].split(\"/\")[3])\n",
    "    names1 = np.array(names1)\n",
    "    names2 = []\n",
    "    for ind in d2.dataset.indices:\n",
    "        names2.append(d2.dataset.images[ind][0].split(\"/\")[3])\n",
    "    names2 = np.array(names2)\n",
    "    return len(np.intersect1d(names1, names2))"
   ]
  },
  {
   "cell_type": "code",
   "execution_count": 5,
   "metadata": {},
   "outputs": [
    {
     "name": "stdout",
     "output_type": "stream",
     "text": [
      "DATASET                                    DISJOINT             OVERLAP\n",
      "-----------------------------------------------------------------------\n",
      "size train-0:                              3706                  6139\n",
      "size train-1:                              6876                  6876\n",
      "size val-0:                                1449                  1449\n",
      "size val-1:                                1449                  1449\n",
      "size test-0:                               1449                  1449\n",
      "size test-1:                               1449                  1449\n",
      "Common images in train-0 and train-1:         0                  2433\n",
      "Common images in val-0 and val-1:          1449                  1449\n",
      "Common images in test-0 and test-1:        1449                  1449\n",
      "Common images in train-0 and val-0:           0                     0\n",
      "Common images in train-0 and test-0:          0                     0\n",
      "Common images in val-0 and test-0:         1449                  1449\n",
      "Common images in train-1 and val-1:           0                     0\n",
      "Common images in train-1 and test-1:          0                     0\n",
      "Common images in val-1 and test-1:         1449                  1449\n"
     ]
    }
   ],
   "source": [
    "from dataset import get_dataset\n",
    "class dummyopts():\n",
    "    def __init__(self):\n",
    "        pass\n",
    "opts = dummyopts()\n",
    "\n",
    "\n",
    "opts.dataset = \"voc\"\n",
    "opts.task = \"10-10\"\n",
    "opts.crop_size = 512\n",
    "opts.crop_size_val = 512\n",
    "opts.pseudo = None\n",
    "opts.data_root = \"data\"\n",
    "opts.replay = False\n",
    "opts.no_mask = False\n",
    "opts.weakly = False\n",
    "opts.val_on_trainset = False\n",
    "\n",
    "opts.overlap = False\n",
    "opts.step = 0\n",
    "train_dst_0, val_dst_0, test_dst_0, labels_0, n_classes_0 = get_dataset(opts)\n",
    "opts.step = 1\n",
    "train_dst_1, val_dst_1, test_dst_1, labels_1, n_classes_1 = get_dataset(opts)\n",
    "\n",
    "opts.overlap = True\n",
    "opts.step = 0\n",
    "train_dst_0_ov, val_dst_0_ov, test_dst_0_ov, labels_0, n_classes_0 = get_dataset(opts)\n",
    "opts.step = 1\n",
    "train_dst_1_ov, val_dst_1_ov, test_dst_1_ov, labels_1, n_classes_1 = get_dataset(opts)\n",
    "print(\"DATASET                                    DISJOINT             OVERLAP\")\n",
    "print(\"-----------------------------------------------------------------------\")\n",
    "print(f\"size train-0:                              {len(train_dst_0.dataset.indices)}                  {len(train_dst_0_ov.dataset.indices)}\")\n",
    "print(f\"size train-1:                              {len(train_dst_1.dataset.indices)}                  {len(train_dst_1_ov.dataset.indices)}\")\n",
    "print(f\"size val-0:                                {len(val_dst_0.dataset.indices)}                  {len(val_dst_0_ov.dataset.indices)}\")\n",
    "print(f\"size val-1:                                {len(val_dst_1.dataset.indices)}                  {len(val_dst_1_ov.dataset.indices)}\")\n",
    "print(f\"size test-0:                               {len(test_dst_0.dataset.indices)}                  {len(test_dst_0_ov.dataset.indices)}\")\n",
    "print(f\"size test-1:                               {len(test_dst_1.dataset.indices)}                  {len(test_dst_1_ov.dataset.indices)}\")\n",
    "print(f\"Common images in train-0 and train-1:         {get_n_common(train_dst_0, train_dst_1)}                  {get_n_common(train_dst_0_ov, train_dst_1_ov)}\")\n",
    "print(f\"Common images in val-0 and val-1:          {get_n_common(val_dst_0, val_dst_1)}                  {get_n_common(val_dst_0_ov, val_dst_1_ov)}\")\n",
    "print(f\"Common images in test-0 and test-1:        {get_n_common(test_dst_0, test_dst_1)}                  {get_n_common(test_dst_0_ov, test_dst_1_ov)}\")\n",
    "print(f\"Common images in train-0 and val-0:           {get_n_common(train_dst_0, val_dst_0)}                     {get_n_common(train_dst_0_ov, val_dst_0_ov)}\")\n",
    "print(f\"Common images in train-0 and test-0:          {get_n_common(train_dst_0, test_dst_0)}                     {get_n_common(train_dst_0_ov, test_dst_0_ov)}\")\n",
    "print(f\"Common images in val-0 and test-0:         {get_n_common(val_dst_0, test_dst_0)}                  {get_n_common(val_dst_0_ov, test_dst_0_ov)}\")\n",
    "print(f\"Common images in train-1 and val-1:           {get_n_common(train_dst_1, val_dst_1)}                     {get_n_common(train_dst_1_ov, val_dst_1_ov)}\")\n",
    "print(f\"Common images in train-1 and test-1:          {get_n_common(train_dst_1, test_dst_1)}                     {get_n_common(train_dst_1_ov, test_dst_1_ov)}\")\n",
    "print(f\"Common images in val-1 and test-1:         {get_n_common(val_dst_1, test_dst_1)}                  {get_n_common(val_dst_1_ov, test_dst_1_ov)}\")"
   ]
  },
  {
   "cell_type": "code",
   "execution_count": 7,
   "metadata": {},
   "outputs": [
    {
     "name": "stdout",
     "output_type": "stream",
     "text": [
      "Common images in train-0 and train-0-ov:         3706\n",
      "Common images in train-1 and train-1-ov:         6876\n"
     ]
    }
   ],
   "source": [
    "print(f\"Common images in train-0 and train-0-ov:         {get_n_common(train_dst_0, train_dst_0_ov)}\")\n",
    "print(f\"Common images in train-1 and train-1-ov:         {get_n_common(train_dst_1, train_dst_1_ov)}\")"
   ]
  },
  {
   "cell_type": "code",
   "execution_count": 8,
   "metadata": {},
   "outputs": [
    {
     "data": {
      "text/plain": [
       "6139"
      ]
     },
     "execution_count": 8,
     "metadata": {},
     "output_type": "execute_result"
    }
   ],
   "source": [
    "3706 + 2433"
   ]
  },
  {
   "cell_type": "code",
   "execution_count": null,
   "metadata": {},
   "outputs": [],
   "source": []
  }
 ],
 "metadata": {
  "kernelspec": {
   "display_name": "test3",
   "language": "python",
   "name": "python3"
  },
  "language_info": {
   "codemirror_mode": {
    "name": "ipython",
    "version": 3
   },
   "file_extension": ".py",
   "mimetype": "text/x-python",
   "name": "python",
   "nbconvert_exporter": "python",
   "pygments_lexer": "ipython3",
   "version": "3.13.0"
  }
 },
 "nbformat": 4,
 "nbformat_minor": 2
}

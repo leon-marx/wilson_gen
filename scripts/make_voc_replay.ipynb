{
 "cells": [
  {
   "cell_type": "code",
   "execution_count": 1,
   "metadata": {},
   "outputs": [
    {
     "name": "stderr",
     "output_type": "stream",
     "text": [
      "/tmp/ipykernel_2873718/1379330897.py:5: TqdmExperimentalWarning: Using `tqdm.autonotebook.tqdm` in notebook mode. Use `tqdm.tqdm` instead to force console mode (e.g. in jupyter console)\n",
      "  from tqdm.autonotebook import tqdm\n"
     ]
    }
   ],
   "source": [
    "import os\n",
    "from PIL import Image\n",
    "import numpy as np\n",
    "import pickle\n",
    "from tqdm.autonotebook import tqdm"
   ]
  },
  {
   "cell_type": "code",
   "execution_count": 2,
   "metadata": {},
   "outputs": [],
   "source": [
    "classes = [\n",
    "    \"aeroplane\",\n",
    "    \"bicycle\",\n",
    "    \"bird\",\n",
    "    \"boat\",\n",
    "    \"bottle\",\n",
    "    \"bus\",\n",
    "    \"car\",\n",
    "    \"cat\",\n",
    "    \"chair\",\n",
    "    \"cow\",\n",
    "    \"dining_table\",\n",
    "    \"dog\",\n",
    "    \"horse\",\n",
    "    \"motorbike\",\n",
    "    \"person\",\n",
    "    \"potted_plant\",\n",
    "    \"sheep\",\n",
    "    \"sofa\",\n",
    "    \"train\",\n",
    "    \"tv_monitor\",\n",
    "]"
   ]
  },
  {
   "cell_type": "code",
   "execution_count": 3,
   "metadata": {},
   "outputs": [],
   "source": [
    "def get_image_names_and_one_hots(task_and_ov):\n",
    "    idxs_path = f\"/home/thesis/marx/wilson_gen/WILSON/data/voc/{task_and_ov}/train-{0}.npy\"\n",
    "    idxs = np.load(idxs_path)\n",
    "    with open(\"/home/thesis/marx/wilson_gen/WILSON/data/voc/splits/train_aug.txt\") as f:\n",
    "        lines = f.readlines()\n",
    "        lines = [l.strip().split(\" \")[0][1:] for l in lines]\n",
    "        image_names = np.array(lines)[idxs]\n",
    "    one_hots = [vec for vec in np.load(\"/home/thesis/marx/wilson_gen/WILSON/data/voc/voc_1h_labels_train.npy\")[idxs]]\n",
    "    return image_names, one_hots\n",
    "\n",
    "def get_class(image_name, task):\n",
    "    # new method, using centrality\n",
    "    labels = Image.open(f\"/home/thesis/marx/wilson_gen/WILSON/data/voc/SegmentationClassAug/{image_name.split('/')[1][:-4]}.png\")\n",
    "    w, h = labels.size\n",
    "    labels = np.array(labels)\n",
    "    uniques = np.unique(labels)\n",
    "    uniques = [unq for unq in uniques if unq > 0 and unq <= int(task.split(\"-\")[0])]\n",
    "    # print(\", \".join([classes[u - 1] for u in uniques]))\n",
    "    min_dist = 1000000.0\n",
    "    central_ind = None\n",
    "    for unq in uniques:\n",
    "        unq_dists = []\n",
    "        for i in range(h):\n",
    "            for j in range(w):\n",
    "                if labels[i, j] == unq:\n",
    "                    unq_dists.append(np.sqrt((i - h/2)**2 + (j - w/2)**2))\n",
    "        if np.mean(unq_dists) < min_dist:\n",
    "            min_dist = np.mean(unq_dists)\n",
    "            central_ind = unq\n",
    "    central_class = classes[central_ind - 1]\n",
    "    return central_class\n"
   ]
  },
  {
   "cell_type": "code",
   "execution_count": 4,
   "metadata": {},
   "outputs": [],
   "source": [
    "# with open(\"/home/thesis/marx/wilson_gen/WILSON/replay_data_lora/10-10/class_counts.pkl\", \"rb\") as f:\n",
    "#     class_countsss = pickle.load(f)\n",
    "#     print(class_countsss)\n",
    "# with open(\"/home/thesis/marx/wilson_gen/WILSON/replay_data_lora/10-10/aeroplane/pseudolabels_1h.pkl\", \"rb\") as f:\n",
    "#     pseduo1hottt = pickle.load(f)\n",
    "# for k in list(pseduo1hottt.keys())[:2]:\n",
    "#     print(k, pseduo1hottt[k])\n",
    "#     print(pseduo1hottt[k].dtype)"
   ]
  },
  {
   "cell_type": "code",
   "execution_count": 5,
   "metadata": {},
   "outputs": [
    {
     "name": "stdout",
     "output_type": "stream",
     "text": [
      "10-10-ov\n",
      "    6139 voc images\n"
     ]
    },
    {
     "data": {
      "application/vnd.jupyter.widget-view+json": {
       "model_id": "80730af4f0da4ea490d741335d33fffa",
       "version_major": 2,
       "version_minor": 0
      },
      "text/plain": [
       "  0%|          | 0/6139 [00:00<?, ?it/s]"
      ]
     },
     "metadata": {},
     "output_type": "display_data"
    },
    {
     "name": "stdout",
     "output_type": "stream",
     "text": [
      "    6139 gen images\n",
      "        aeroplane: 580\n",
      "        bicycle: 420\n",
      "        bird: 691\n",
      "        boat: 438\n",
      "        bottle: 597\n",
      "        bus: 363\n",
      "        car: 874\n",
      "        cat: 994\n",
      "        chair: 925\n",
      "        cow: 257\n",
      "10-10\n",
      "    3706 voc images\n"
     ]
    },
    {
     "data": {
      "application/vnd.jupyter.widget-view+json": {
       "model_id": "7f96377207ae47038c067e528f5eb36f",
       "version_major": 2,
       "version_minor": 0
      },
      "text/plain": [
       "  0%|          | 0/3706 [00:00<?, ?it/s]"
      ]
     },
     "metadata": {},
     "output_type": "display_data"
    },
    {
     "name": "stdout",
     "output_type": "stream",
     "text": [
      "    3706 gen images\n",
      "        aeroplane: 528\n",
      "        bicycle: 167\n",
      "        bird: 651\n",
      "        boat: 291\n",
      "        bottle: 172\n",
      "        bus: 205\n",
      "        car: 466\n",
      "        cat: 837\n",
      "        chair: 177\n",
      "        cow: 212\n"
     ]
    }
   ],
   "source": [
    "TASK = \"10-10\"\n",
    "for OVERLAP in [True, False]:\n",
    "    # prepare data dir\n",
    "    task_and_ov = f\"{TASK}-ov\" if OVERLAP else TASK\n",
    "    print(task_and_ov)\n",
    "    for cl in classes[:int(TASK.split(\"-\")[0])]:\n",
    "        os.makedirs(f\"/home/thesis/marx/wilson_gen/WILSON/replay_data_voc/{task_and_ov}/{cl}/images\", exist_ok=True)\n",
    "        os.makedirs(f\"/home/thesis/marx/wilson_gen/WILSON/replay_data_voc/{task_and_ov}/{cl}/pseudolabels\", exist_ok=True)\n",
    "    # load images and onehot labels\n",
    "    image_names, one_hots = get_image_names_and_one_hots(task_and_ov)\n",
    "    print(f\"    {len(image_names)} voc images\")\n",
    "    class_counts = {cl: 0 for cl in classes[:int(TASK.split(\"-\")[0])]}\n",
    "    pseudolabels_1h = {cl: {} for cl in classes[:int(TASK.split(\"-\")[0])]}\n",
    "    # copy images and pseudolabels into replay folder, create pseudolabel files compatible with replay code\n",
    "    for i, img_name in tqdm(enumerate(image_names), total=len(image_names)):\n",
    "        cl = get_class(img_name, TASK)\n",
    "        # print(cl)\n",
    "        class_counts[cl] += 1\n",
    "        img_name = img_name.split(\"/\")[1]\n",
    "        pseudolabels_1h[cl][f\"{img_name[:-4]}.png\"] = one_hots[i]\n",
    "        os.system(f\"cp /home/thesis/marx/wilson_gen/WILSON/data/voc/JPEGImages/{img_name} /home/thesis/marx/wilson_gen/WILSON/replay_data_voc/{task_and_ov}/{cl}/images/{img_name}\")\n",
    "        os.system(f\"cp /home/thesis/marx/wilson_gen/WILSON/data/voc/SegmentationClassAug/{img_name[:-4]}.png /home/thesis/marx/wilson_gen/WILSON/replay_data_voc/{task_and_ov}/{cl}/pseudolabels/{img_name[:-4]}.png\")\n",
    "    with open(f\"/home/thesis/marx/wilson_gen/WILSON/replay_data_voc/{task_and_ov}/class_counts.pkl\", \"wb\") as f:\n",
    "        pickle.dump(class_counts, f)\n",
    "    print(f\"    {sum(class_counts.values())} gen images\")\n",
    "    for cl in classes[:int(TASK.split(\"-\")[0])]:\n",
    "        with open(f\"/home/thesis/marx/wilson_gen/WILSON/replay_data_voc/{task_and_ov}/{cl}/pseudolabels_1h.pkl\", \"wb\") as f:\n",
    "            pickle.dump(pseudolabels_1h[cl], f)\n",
    "        print(f\"        {cl}: {len(pseudolabels_1h[cl])}\")"
   ]
  },
  {
   "cell_type": "markdown",
   "metadata": {},
   "source": [
    "Looking at the different class counts for overlap and disjoint, we see that especially bicycle, bottle and chair tend to coappear together with future classes. In the case of bottle, this explains the overfitting of the LoRA to bar scenes, as likely 3/4 of the data are that instead of a sole bottle. Looking at the generated images, we see a similar dynamic with chairs in a living room around the dining table. Interestingly, most bicycles still appear alone in the LoRA replay set."
   ]
  },
  {
   "cell_type": "markdown",
   "metadata": {},
   "source": []
  }
 ],
 "metadata": {
  "kernelspec": {
   "display_name": "hugface12",
   "language": "python",
   "name": "python3"
  },
  "language_info": {
   "codemirror_mode": {
    "name": "ipython",
    "version": 3
   },
   "file_extension": ".py",
   "mimetype": "text/x-python",
   "name": "python",
   "nbconvert_exporter": "python",
   "pygments_lexer": "ipython3",
   "version": "3.12.9"
  }
 },
 "nbformat": 4,
 "nbformat_minor": 2
}

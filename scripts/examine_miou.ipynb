{
 "cells": [
  {
   "cell_type": "code",
   "execution_count": 2,
   "metadata": {},
   "outputs": [],
   "source": [
    "import numpy as np\n",
    "import os\n",
    "import json"
   ]
  },
  {
   "cell_type": "code",
   "execution_count": 16,
   "metadata": {},
   "outputs": [
    {
     "name": "stdout",
     "output_type": "stream",
     "text": [
      "Mean IoU 1-10: 68.08%\n",
      "Mean IoU 11-20: 52.48%\n",
      "Mean IoU all: 59.91%\n"
     ]
    }
   ],
   "source": [
    "run = \"run-20241122_184847-8qb7r2i7\"\n",
    "step = 1\n",
    "table = os.listdir(f\"../WILSON/wandb/{run}/files/media/table/Test/Class_IoU/{step}\")[0]\n",
    "\n",
    "with open(f\"../WILSON/wandb/{run}/files/media/table/Test/Class_IoU/{step}/{table}\") as f:\n",
    "    table = json.load(f)\n",
    "    miou_class = table[\"data\"][0]\n",
    "    print(f\"Mean IoU 1-10: {np.round(np.mean(miou_class[:10]) * 100, 2)}%\")\n",
    "    print(f\"Mean IoU 11-20: {np.round(np.mean(miou_class[10:]) * 100, 2)}%\")\n",
    "    print(f\"Mean IoU all: {np.round(np.mean(miou_class) * 100, 2)}%\")"
   ]
  },
  {
   "cell_type": "code",
   "execution_count": null,
   "metadata": {},
   "outputs": [],
   "source": []
  }
 ],
 "metadata": {
  "kernelspec": {
   "display_name": "test3",
   "language": "python",
   "name": "python3"
  },
  "language_info": {
   "codemirror_mode": {
    "name": "ipython",
    "version": 3
   },
   "file_extension": ".py",
   "mimetype": "text/x-python",
   "name": "python",
   "nbconvert_exporter": "python",
   "pygments_lexer": "ipython3",
   "version": "3.13.0"
  }
 },
 "nbformat": 4,
 "nbformat_minor": 2
}

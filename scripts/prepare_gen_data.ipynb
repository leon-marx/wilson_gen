{
 "cells": [
  {
   "cell_type": "code",
   "execution_count": 32,
   "metadata": {},
   "outputs": [],
   "source": [
    "import os\n",
    "from tqdm import tqdm\n",
    "import shutil"
   ]
  },
  {
   "cell_type": "code",
   "execution_count": 33,
   "metadata": {},
   "outputs": [],
   "source": [
    "OVERLAP = True\n",
    "GEN_DATA_ROOT = \"gen_mrte_refill\"\n",
    "REPLAY_ROOT = \"replay_data_mrte\"\n",
    "TASK = \"10-10\"\n",
    "\n",
    "\n",
    "ov_string = \"-ov\" if OVERLAP else \"\""
   ]
  },
  {
   "cell_type": "code",
   "execution_count": 34,
   "metadata": {},
   "outputs": [],
   "source": [
    "GEN_DATA_ROOT# += ov_string.replace(\"-\", \"_\")\n",
    "TASK_AND_OV = TASK + ov_string"
   ]
  },
  {
   "cell_type": "code",
   "execution_count": 35,
   "metadata": {},
   "outputs": [
    {
     "data": {
      "text/plain": [
       "['ldm',\n",
       " 'stable_diffusion.egg-info',\n",
       " 'scripts',\n",
       " 'gen_base_refill',\n",
       " 'gen_mrte_refill',\n",
       " 'setup.py',\n",
       " 'checkpoints',\n",
       " 'environment.yaml',\n",
       " 'modelcard.md',\n",
       " 'assets',\n",
       " 'README.md',\n",
       " 'outputs',\n",
       " 'requirements.txt',\n",
       " 'configs',\n",
       " 'LICENSE-MODEL',\n",
       " 'pretrained',\n",
       " 'generate_many.sh',\n",
       " 'doc',\n",
       " 'hp_and_prompt_tuning.py',\n",
       " 'LICENSE']"
      ]
     },
     "execution_count": 35,
     "metadata": {},
     "output_type": "execute_result"
    }
   ],
   "source": [
    "os.chdir(\"/home/thesis/marx/wilson_gen/stablediffusion\")\n",
    "os.listdir()"
   ]
  },
  {
   "cell_type": "code",
   "execution_count": 36,
   "metadata": {},
   "outputs": [],
   "source": [
    "classes = [\n",
    "    \"aeroplane\",\n",
    "    \"bicycle\",\n",
    "    \"bird\",\n",
    "    \"boat\",\n",
    "    \"bottle\",\n",
    "    \"bus\",\n",
    "    \"car\",\n",
    "    \"cat\",\n",
    "    \"chair\",\n",
    "    \"cow\",\n",
    "    # \"dining_table\",\n",
    "    # \"dog\",\n",
    "    # \"horse\",\n",
    "    # \"motorbike\",\n",
    "    # \"person\",\n",
    "    # \"potted_plant\",\n",
    "    # \"sheep\",\n",
    "    # \"sofa\",\n",
    "    # \"train\",\n",
    "    # \"tv_monitor\",\n",
    "]"
   ]
  },
  {
   "cell_type": "code",
   "execution_count": 37,
   "metadata": {},
   "outputs": [],
   "source": [
    "for cl_name in classes:\n",
    "    os.makedirs(f\"../WILSON/{REPLAY_ROOT}/{TASK_AND_OV}/{cl_name}/images\", exist_ok=True)\n",
    "    os.makedirs(f\"../WILSON/{REPLAY_ROOT}/{TASK_AND_OV}/{cl_name}/pseudolabels\", exist_ok=True)"
   ]
  },
  {
   "cell_type": "code",
   "execution_count": 38,
   "metadata": {},
   "outputs": [
    {
     "name": "stdout",
     "output_type": "stream",
     "text": [
      "working on aeroplane:\n",
      "    found 581 new images\n",
      "    found 1000 preexisting images\n",
      "working on bicycle:\n",
      "    found 0 new images\n",
      "    found 886 preexisting images\n",
      "working on bird:\n",
      "    found 926 new images\n",
      "    found 1000 preexisting images\n",
      "working on boat:\n",
      "    found 0 new images\n",
      "    found 896 preexisting images\n",
      "working on bottle:\n",
      "    found 0 new images\n",
      "    found 990 preexisting images\n",
      "working on bus:\n",
      "    found 0 new images\n",
      "    found 736 preexisting images\n",
      "working on car:\n",
      "    found 760 new images\n",
      "    found 1000 preexisting images\n",
      "working on cat:\n",
      "    found 1436 new images\n",
      "    found 1000 preexisting images\n",
      "working on chair:\n",
      "    found 1060 new images\n",
      "    found 1000 preexisting images\n",
      "working on cow:\n",
      "    found 0 new images\n",
      "    found 522 preexisting images\n"
     ]
    }
   ],
   "source": [
    "for cl_name in classes:\n",
    "    files = [f for f in sorted(os.listdir(f\"{GEN_DATA_ROOT}\")) if cl_name in f and \".png\" in f]\n",
    "    num_preexisting = len(os.listdir(f\"../WILSON/{REPLAY_ROOT}/{TASK_AND_OV}/{cl_name}/images\"))\n",
    "    print(f\"working on {cl_name}:\")\n",
    "    print(f\"    found {len(files)} new images\")\n",
    "    print(f\"    found {num_preexisting} preexisting images\")\n",
    "    for ind, img in enumerate(files):\n",
    "        shutil.copy(f\"{GEN_DATA_ROOT}/{img}\", f\"../WILSON/{REPLAY_ROOT}/{TASK_AND_OV}/{cl_name}/images/{str(ind+num_preexisting).zfill(5)}.png\")"
   ]
  },
  {
   "cell_type": "code",
   "execution_count": 39,
   "metadata": {},
   "outputs": [],
   "source": [
    "# RELOCATE OLD IMAGES IN CASE THEY GOT CORRUPTED (NOT WORKING ATM)\n",
    "# ORIGINAL_GEN_DATA_ROOT = f\"old_gen_caps/{GEN_DATA_ROOT}\"\n",
    "# corrupt_images = {\n",
    "#     \"aeroplane\": 306,\n",
    "#     \"bird\": 661,\n",
    "# }\n",
    "\n",
    "# for cl_name in classes:\n",
    "#     files = [f for f in os.listdir(f\"{ORIGINAL_GEN_DATA_ROOT}\") if cl_name in f and \".png\" in f]\n",
    "#     num_preexisting = len(os.listdir(f\"../WILSON/{REPLAY_ROOT}/{TASK_AND_OV}/{cl_name}/images\"))\n",
    "#     print(f\"working on {cl_name}:\")\n",
    "#     print(f\"    found {len(files)} new images\")\n",
    "#     print(f\"    found {num_preexisting} preexisting images\")\n",
    "#     for ind, img in enumerate(files):\n",
    "#         if ORIGINAL_GEN_DATA_ROOT == GEN_DATA_ROOT:\n",
    "#             if cl_name in corrupt_images and ind + len(files) == corrupt_images[cl_name]:\n",
    "#                 print(img)\n",
    "#         else:\n",
    "#             if cl_name in corrupt_images and ind == corrupt_images[cl_name]:\n",
    "#                 print(img)\n",
    "        # shutil.copy(f\"{GEN_DATA_ROOT}/{img}\", f\"../WILSON/{REPLAY_ROOT}/{TASK_AND_OV}/{cl_name}/images/{str(ind+num_preexisting).zfill(5)}.png\")"
   ]
  },
  {
   "cell_type": "code",
   "execution_count": null,
   "metadata": {},
   "outputs": [],
   "source": []
  }
 ],
 "metadata": {
  "kernelspec": {
   "display_name": "combined_env9",
   "language": "python",
   "name": "python3"
  },
  "language_info": {
   "codemirror_mode": {
    "name": "ipython",
    "version": 3
   },
   "file_extension": ".py",
   "mimetype": "text/x-python",
   "name": "python",
   "nbconvert_exporter": "python",
   "pygments_lexer": "ipython3",
   "version": "3.8.20"
  }
 },
 "nbformat": 4,
 "nbformat_minor": 2
}

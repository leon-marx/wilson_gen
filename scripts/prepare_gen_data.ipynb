{
 "cells": [
  {
   "cell_type": "code",
   "execution_count": 1,
   "metadata": {},
   "outputs": [],
   "source": [
    "import os\n",
    "from tqdm import tqdm\n",
    "import shutil"
   ]
  },
  {
   "cell_type": "code",
   "execution_count": null,
   "metadata": {},
   "outputs": [],
   "source": [
    "GEN_DATA_ROOT = \"gen_imgs_baseline\"\n",
    "REPLAY_ROOT = \"replay_data_baseline\"\n",
    "TASK = \"10-10\""
   ]
  },
  {
   "cell_type": "code",
   "execution_count": 3,
   "metadata": {},
   "outputs": [
    {
     "data": {
      "text/plain": [
       "['voc_real_mod_typ_env_prompts.txt',\n",
       " 'ldm',\n",
       " 'gen_imgs_baseline',\n",
       " 'stable_diffusion.egg-info',\n",
       " 'scripts',\n",
       " 'setup.py',\n",
       " 'checkpoints',\n",
       " 'environment.yaml',\n",
       " 'modelcard.md',\n",
       " 'assets',\n",
       " 'README.md',\n",
       " 'outputs',\n",
       " 'requirements.txt',\n",
       " 'configs',\n",
       " '8603dd9230854713800ea99438971c24.pt',\n",
       " 'LICENSE-MODEL',\n",
       " 'pretrained',\n",
       " 'hp_search',\n",
       " 'generate_many.sh',\n",
       " 'voc_baseline_prompts.txt',\n",
       " 'doc',\n",
       " 'hp_and_prompt_tuning.py',\n",
       " 'LICENSE']"
      ]
     },
     "execution_count": 3,
     "metadata": {},
     "output_type": "execute_result"
    }
   ],
   "source": [
    "os.chdir(\"/home/thesis/marx/wilson_gen/stablediffusion\")\n",
    "os.listdir()"
   ]
  },
  {
   "cell_type": "code",
   "execution_count": 4,
   "metadata": {},
   "outputs": [],
   "source": [
    "classes = [\n",
    "    \"aeroplane\",\n",
    "    \"bicycle\",\n",
    "    \"bird\",\n",
    "    \"boat\",\n",
    "    \"bottle\",\n",
    "    \"bus\",\n",
    "    \"car\",\n",
    "    \"cat\",\n",
    "    \"chair\",\n",
    "    \"cow\",\n",
    "    # \"dining_table\",\n",
    "    # \"dog\",\n",
    "    # \"horse\",\n",
    "    # \"motorbike\",\n",
    "    # \"person\",\n",
    "    # \"potted_plant\",\n",
    "    # \"sheep\",\n",
    "    # \"sofa\",\n",
    "    # \"train\",\n",
    "    # \"tv_monitor\",\n",
    "]"
   ]
  },
  {
   "cell_type": "code",
   "execution_count": null,
   "metadata": {},
   "outputs": [],
   "source": [
    "for cl_name in classes:\n",
    "    os.makedirs(f\"../WILSON/{REPLAY_ROOT}/{TASK}/{cl_name}/images\", exist_ok=True)\n",
    "    os.makedirs(f\"../WILSON/{REPLAY_ROOT}/{TASK}/{cl_name}/pseudolabels\", exist_ok=True)\n",
    "    os.makedirs(f\"../WILSON/{REPLAY_ROOT}/{TASK}-ov/{cl_name}/images\", exist_ok=True)\n",
    "    os.makedirs(f\"../WILSON/{REPLAY_ROOT}/{TASK}-ov/{cl_name}/pseudolabels\", exist_ok=True)"
   ]
  },
  {
   "cell_type": "code",
   "execution_count": null,
   "metadata": {},
   "outputs": [
    {
     "name": "stdout",
     "output_type": "stream",
     "text": [
      "working on aeroplane:\n",
      "    found 1000 new images\n",
      "    found 0 preexisting images\n",
      "working on bicycle:\n",
      "    found 1000 new images\n",
      "    found 0 preexisting images\n",
      "working on bird:\n",
      "    found 1000 new images\n",
      "    found 0 preexisting images\n",
      "working on boat:\n",
      "    found 1000 new images\n",
      "    found 0 preexisting images\n",
      "working on bottle:\n",
      "    found 1000 new images\n",
      "    found 0 preexisting images\n",
      "working on bus:\n",
      "    found 1000 new images\n",
      "    found 0 preexisting images\n",
      "working on car:\n",
      "    found 1000 new images\n",
      "    found 0 preexisting images\n",
      "working on cat:\n",
      "    found 1000 new images\n",
      "    found 0 preexisting images\n",
      "working on chair:\n",
      "    found 1000 new images\n",
      "    found 0 preexisting images\n",
      "working on cow:\n",
      "    found 1000 new images\n",
      "    found 0 preexisting images\n"
     ]
    }
   ],
   "source": [
    "for cl_name in classes:\n",
    "    files = [f for f in os.listdir(f\"{GEN_DATA_ROOT}\") if cl_name in f and \".png\" in f]\n",
    "    num_preexisting = len(os.listdir(f\"../WILSON/{REPLAY_ROOT}/{TASK}/{cl_name}/images\"))\n",
    "    print(f\"working on {cl_name}:\")\n",
    "    print(f\"    found {len(files)} new images\")\n",
    "    print(f\"    found {num_preexisting} preexisting images\")\n",
    "    for ind, img in enumerate(files):\n",
    "        shutil.copy(f\"{GEN_DATA_ROOT}/{img}\", f\"../WILSON/{REPLAY_ROOT}/{TASK}/{cl_name}/images/{str(ind+num_preexisting).zfill(5)}.png\")\n",
    "        shutil.copy(f\"{GEN_DATA_ROOT}/{img}\", f\"../WILSON/{REPLAY_ROOT}/{TASK}-ov/{cl_name}/images/{str(ind+num_preexisting).zfill(5)}.png\")"
   ]
  },
  {
   "cell_type": "code",
   "execution_count": null,
   "metadata": {},
   "outputs": [],
   "source": []
  }
 ],
 "metadata": {
  "kernelspec": {
   "display_name": "test3",
   "language": "python",
   "name": "python3"
  },
  "language_info": {
   "codemirror_mode": {
    "name": "ipython",
    "version": 3
   },
   "file_extension": ".py",
   "mimetype": "text/x-python",
   "name": "python",
   "nbconvert_exporter": "python",
   "pygments_lexer": "ipython3",
   "version": "3.13.0"
  }
 },
 "nbformat": 4,
 "nbformat_minor": 2
}

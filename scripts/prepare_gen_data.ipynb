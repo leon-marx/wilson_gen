{
 "cells": [
  {
   "cell_type": "code",
   "execution_count": 1,
   "metadata": {},
   "outputs": [],
   "source": [
    "import os\n",
    "from tqdm import tqdm\n",
    "import shutil"
   ]
  },
  {
   "cell_type": "code",
   "execution_count": 2,
   "metadata": {},
   "outputs": [
    {
     "data": {
      "text/plain": [
       "['ldm',\n",
       " 'stable_diffusion.egg-info',\n",
       " 'scripts',\n",
       " 'setup.py',\n",
       " 'checkpoints',\n",
       " 'environment.yaml',\n",
       " 'modelcard.md',\n",
       " 'gen_imgs_backup',\n",
       " 'assets',\n",
       " 'README.md',\n",
       " 'gen_imgs',\n",
       " 'outputs',\n",
       " 'requirements.txt',\n",
       " 'prompts.txt',\n",
       " 'configs',\n",
       " 'LICENSE-MODEL',\n",
       " 'pretrained',\n",
       " 'generate_many.sh',\n",
       " 'doc',\n",
       " 'LICENSE']"
      ]
     },
     "execution_count": 2,
     "metadata": {},
     "output_type": "execute_result"
    }
   ],
   "source": [
    "os.chdir(\"/home/thesis/marx/wilson_gen/stablediffusion\")\n",
    "os.listdir()"
   ]
  },
  {
   "cell_type": "code",
   "execution_count": 21,
   "metadata": {},
   "outputs": [],
   "source": [
    "classes = [\n",
    "    \"aeroplane\",\n",
    "    \"bicycle\",\n",
    "    \"bird\",\n",
    "    \"boat\",\n",
    "    \"bottle\",\n",
    "    \"bus\",\n",
    "    \"car\",\n",
    "    \"cat\",\n",
    "    \"chair\",\n",
    "    \"cow\",\n",
    "    # \"dining_table\",\n",
    "    # \"dog\",\n",
    "    # \"horse\",\n",
    "    # \"motorbike\",\n",
    "    # \"person\",\n",
    "    # \"potted_plant\",\n",
    "    # \"sheep\",\n",
    "    # \"sofa\",\n",
    "    # \"train\",\n",
    "    # \"tv_monitor\",\n",
    "]"
   ]
  },
  {
   "cell_type": "code",
   "execution_count": null,
   "metadata": {},
   "outputs": [
    {
     "name": "stdout",
     "output_type": "stream",
     "text": [
      "min_num = 2744\n",
      "max_num = 2744\n",
      "min_num = 2612\n",
      "max_num = 5524\n",
      "min_num = 1363\n",
      "max_num = 8968\n",
      "min_num = 940\n",
      "min_num = 603\n",
      "min_num = 520\n",
      "min_num = 72\n",
      "min_num = 28\n",
      "max_num = 9008\n",
      "max_num = 9012\n",
      "min_num = 24\n",
      "min_num = 20\n",
      "max_num = 9018\n",
      "max_num = 9019\n",
      "    final min_num = 20\n",
      "    final max_num = 9019\n"
     ]
    }
   ],
   "source": [
    "min_num = 10000\n",
    "max_num = 0\n",
    "for aaaa in os.listdir(\"gen_imgs\"):\n",
    "    if \".png\" in aaaa:\n",
    "        num = int(aaaa.split(\"_\")[-1].split(\".\")[0])\n",
    "        if num < min_num:\n",
    "            min_num = num\n",
    "            print(f\"{min_num = }\")\n",
    "        if num > max_num:\n",
    "            max_num = num\n",
    "            print(f\"{max_num = }\")\n",
    "print(f\"    final {min_num = }\")\n",
    "print(f\"    final {max_num = }\")\n"
   ]
  },
  {
   "cell_type": "code",
   "execution_count": null,
   "metadata": {},
   "outputs": [],
   "source": []
  },
  {
   "cell_type": "code",
   "execution_count": 24,
   "metadata": {},
   "outputs": [
    {
     "name": "stdout",
     "output_type": "stream",
     "text": [
      "boat\n",
      "chair\n",
      "bicycle\n",
      "bus\n",
      "car\n",
      "aeroplane\n",
      "bird\n",
      "cat\n",
      "bottle\n",
      "cow\n"
     ]
    }
   ],
   "source": [
    "for cl_name in os.listdir(\"gen_imgs_backup\"):\n",
    "    if cl_name in classes:\n",
    "        print(cl_name)\n",
    "        os.makedirs(f\"../WILSON_WIP/replay_data/10-10/{cl_name}/images\", exist_ok=True)\n",
    "        os.makedirs(f\"../WILSON_WIP/replay_data/10-10/{cl_name}/pseudolabels\", exist_ok=True)\n",
    "        for ind, img in enumerate(os.listdir(f\"gen_imgs_backup/{cl_name}\")):\n",
    "            shutil.copy(f\"gen_imgs_backup/{cl_name}/{img}\", f\"../WILSON_WIP/replay_data/10-10/{cl_name}/images/{str(ind).zfill(5)}.png\")"
   ]
  },
  {
   "cell_type": "code",
   "execution_count": 35,
   "metadata": {},
   "outputs": [
    {
     "name": "stdout",
     "output_type": "stream",
     "text": [
      "working on aeroplane\n",
      "working on bicycle\n",
      "working on bird\n",
      "working on boat\n",
      "working on bottle\n",
      "working on bus\n",
      "working on car\n",
      "working on cat\n",
      "working on chair\n",
      "working on cow\n"
     ]
    }
   ],
   "source": [
    "for cl_name in classes:\n",
    "    print(\"working on\", cl_name)\n",
    "    files = [f for f in os.listdir(f\"gen_imgs\") if cl_name in f and \".png\" in f]\n",
    "    for ind, img in enumerate(files):\n",
    "        shutil.copy(f\"gen_imgs/{img}\", f\"../WILSON_WIP/replay_data/10-10/{cl_name}/images/{str(ind+50).zfill(5)}.png\")"
   ]
  },
  {
   "cell_type": "code",
   "execution_count": null,
   "metadata": {},
   "outputs": [],
   "source": []
  }
 ],
 "metadata": {
  "kernelspec": {
   "display_name": "test3",
   "language": "python",
   "name": "python3"
  },
  "language_info": {
   "codemirror_mode": {
    "name": "ipython",
    "version": 3
   },
   "file_extension": ".py",
   "mimetype": "text/x-python",
   "name": "python",
   "nbconvert_exporter": "python",
   "pygments_lexer": "ipython3",
   "version": "3.13.0"
  }
 },
 "nbformat": 4,
 "nbformat_minor": 2
}

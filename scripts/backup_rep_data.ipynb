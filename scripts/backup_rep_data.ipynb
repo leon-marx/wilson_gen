{
 "cells": [
  {
   "cell_type": "code",
   "execution_count": 5,
   "metadata": {},
   "outputs": [],
   "source": [
    "import os"
   ]
  },
  {
   "cell_type": "code",
   "execution_count": 6,
   "metadata": {},
   "outputs": [],
   "source": [
    "REPLAY_ROOT = \"replay_data_mrte\"\n",
    "\n",
    "backup_root = REPLAY_ROOT + \"_backup\""
   ]
  },
  {
   "cell_type": "code",
   "execution_count": 7,
   "metadata": {},
   "outputs": [],
   "source": [
    "classes = [\n",
    "    \"aeroplane\",\n",
    "    \"bicycle\",\n",
    "    \"bird\",\n",
    "    \"boat\",\n",
    "    \"bottle\",\n",
    "    \"bus\",\n",
    "    \"car\",\n",
    "    \"cat\",\n",
    "    \"chair\",\n",
    "    \"cow\",\n",
    "    # \"dining_table\",\n",
    "    # \"dog\",\n",
    "    # \"horse\",\n",
    "    # \"motorbike\",\n",
    "    # \"person\",\n",
    "    # \"potted_plant\",\n",
    "    # \"sheep\",\n",
    "    # \"sofa\",\n",
    "    # \"train\",\n",
    "    # \"tv_monitor\",\n",
    "]"
   ]
  },
  {
   "cell_type": "code",
   "execution_count": 8,
   "metadata": {},
   "outputs": [],
   "source": [
    "for task_dir in sorted(os.listdir(f\"/home/thesis/marx/wilson_gen/WILSON/{REPLAY_ROOT}\")):\n",
    "    for cl_dir in sorted(os.listdir(f\"/home/thesis/marx/wilson_gen/WILSON/{REPLAY_ROOT}/{task_dir}\")):\n",
    "        if cl_dir in classes:\n",
    "            os.makedirs(f\"/home/thesis/marx/wilson_gen/WILSON/{backup_root}/{task_dir}/{cl_dir}\", exist_ok=True)\n",
    "            os.system(f\"cp -r /home/thesis/marx/wilson_gen/WILSON/{REPLAY_ROOT}/{task_dir}/{cl_dir}/images /home/thesis/marx/wilson_gen/WILSON/{backup_root}/{task_dir}/{cl_dir}\")"
   ]
  },
  {
   "cell_type": "code",
   "execution_count": null,
   "metadata": {},
   "outputs": [],
   "source": []
  }
 ],
 "metadata": {
  "kernelspec": {
   "display_name": "combined_env9",
   "language": "python",
   "name": "python3"
  },
  "language_info": {
   "codemirror_mode": {
    "name": "ipython",
    "version": 3
   },
   "file_extension": ".py",
   "mimetype": "text/x-python",
   "name": "python",
   "nbconvert_exporter": "python",
   "pygments_lexer": "ipython3",
   "version": "3.8.20"
  }
 },
 "nbformat": 4,
 "nbformat_minor": 2
}

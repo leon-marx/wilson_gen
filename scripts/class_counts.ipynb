{
 "cells": [
  {
   "cell_type": "code",
   "execution_count": null,
   "metadata": {},
   "outputs": [],
   "source": [
    "import pickle\n",
    "with open(f\"/home/thesis/marx/wilson_gen/WILSON/replay_data_baseline/10-10/class_counts.pkl\", \"rb\") as f:\n",
    "    class_counts_dj = pickle.load(f)\n",
    "with open(f\"/home/thesis/marx/wilson_gen/WILSON/replay_data_baseline/10-10-ov/class_counts.pkl\", \"rb\") as f:\n",
    "    class_counts_ov = pickle.load(f)"
   ]
  },
  {
   "cell_type": "code",
   "execution_count": 14,
   "metadata": {},
   "outputs": [
    {
     "name": "stdout",
     "output_type": "stream",
     "text": [
      "class       dj    ov\n",
      "aeroplane  527   578\n",
      "bicycle    176   443\n",
      "bird       642   678\n",
      "boat       298   448\n",
      "bottle     159   495\n",
      "bus        204   368\n",
      "car        469   880\n",
      "cat        812   958\n",
      "chair      204   1030\n",
      "cow        215   261\n"
     ]
    }
   ],
   "source": [
    "print(\"class       dj    ov\")\n",
    "for k, v in class_counts_dj.items():\n",
    "    print(k.ljust(10), v, \" \", class_counts_ov[k])"
   ]
  },
  {
   "cell_type": "markdown",
   "metadata": {},
   "source": [
    "below is a work in progress"
   ]
  },
  {
   "cell_type": "code",
   "execution_count": 1,
   "metadata": {},
   "outputs": [],
   "source": [
    "import numpy as np\n",
    "import matplotlib.pyplot as plt\n",
    "from PIL import Image\n",
    "from tqdm.autonotebook import tqdm"
   ]
  },
  {
   "cell_type": "code",
   "execution_count": 2,
   "metadata": {},
   "outputs": [],
   "source": [
    "classes = [\n",
    "    \"aeroplane\",\n",
    "    \"bicycle\",\n",
    "    \"bird\",\n",
    "    \"boat\",\n",
    "    \"bottle\",\n",
    "    \"bus\",\n",
    "    \"car\",\n",
    "    \"cat\",\n",
    "    \"chair\",\n",
    "    \"cow\",\n",
    "    \"dining_table\",\n",
    "    \"dog\",\n",
    "    \"horse\",\n",
    "    \"motorbike\",\n",
    "    \"person\",\n",
    "    \"potted_plant\",\n",
    "    \"sheep\",\n",
    "    \"sofa\",\n",
    "    \"train\",\n",
    "    \"tv_monitor\",\n",
    "]"
   ]
  },
  {
   "cell_type": "code",
   "execution_count": 11,
   "metadata": {},
   "outputs": [],
   "source": [
    "def get_image_names(task_and_ov, step):\n",
    "    idxs_path = f\"/home/thesis/marx/wilson_gen/WILSON/data/voc/{task_and_ov}/train-{step}.npy\"\n",
    "    idxs = np.load(idxs_path)\n",
    "    with open(\"/home/thesis/marx/wilson_gen/WILSON/data/voc/splits/train_aug.txt\") as f:\n",
    "        lines = f.readlines()\n",
    "        lines = [l.strip().split(\" \")[0][1:] for l in lines]\n",
    "        image_names = np.array(lines)[idxs]\n",
    "    return image_names\n",
    "\n",
    "\n",
    "def get_class(image_name):\n",
    "    # new method, using centrality\n",
    "    labels = Image.open(f\"/home/thesis/marx/wilson_gen/WILSON/data/voc/SegmentationClassAug/{image_name.split('/')[1][:-4]}.png\")\n",
    "    # w, h = labels.size\n",
    "    # labels = np.array(labels)\n",
    "    uniques = np.unique(labels)\n",
    "    return uniques\n",
    "    # uniques = [unq for unq in uniques if unq > 0 and unq <= len(classes)]\n",
    "    # min_dist = 1000000.0\n",
    "    # central_ind = None\n",
    "    # for unq in uniques:\n",
    "    #     unq_dists = []\n",
    "    #     for i in range(h):\n",
    "    #         for j in range(w):\n",
    "    #             if labels[i, j] == unq:\n",
    "    #                 unq_dists.append(np.sqrt((i - h/2)**2 + (j - w/2)**2))\n",
    "    #     if np.mean(unq_dists) < min_dist:\n",
    "    #         min_dist = np.mean(unq_dists)\n",
    "    #         central_ind = unq\n",
    "    # central_class = classes[central_ind]\n",
    "    # return central_class, uniques, central_class_to_split, uniques_to_split\n",
    "\n",
    "\n",
    "def get_class_counts(task=\"10-10\"):\n",
    "    image_names_0 = get_image_names(task, 0)\n",
    "    image_names_1 = get_image_names(task, 1)\n",
    "    image_names_total = np.unique(np.concatenate((image_names_0, image_names_1)))\n",
    "    image_names_0_ov = get_image_names(task + \"-ov\", 0)\n",
    "    image_names_1_ov = get_image_names(task + \"-ov\", 1)\n",
    "    image_names_total_ov = np.unique(np.concatenate((image_names_0_ov, image_names_1_ov)))\n",
    "    class_counts_0 = {c: 0 for c in classes[1:11]}\n",
    "    class_counts_1 = {c: 0 for c in classes[11:]}\n",
    "    class_counts_total = {c: 0 for c in classes[1:]}\n",
    "    class_counts_0_ov = {c: 0 for c in classes[1:11]}\n",
    "    class_counts_1_ov = {c: 0 for c in classes[11:]}\n",
    "    class_counts_total_ov = {c: 0 for c in classes[1:]}\n",
    "    for image_name in tqdm(image_names_total_ov):\n",
    "        img_class = get_class(image_name)\n",
    "        if image_name in image_names_0:\n",
    "            class_counts_0[img_class] += 1\n",
    "        if image_name in image_names_1:\n",
    "            class_counts_1[img_class] += 1\n",
    "        if image_name in image_names_total:\n",
    "            class_counts_total[img_class] += 1\n",
    "        if image_name in image_names_0_ov:\n",
    "            class_counts_0_ov[img_class] += 1\n",
    "        if image_name in image_names_1_ov:\n",
    "            class_counts_1_ov[img_class] += 1\n",
    "        if image_name in image_names_total_ov:\n",
    "            class_counts_total_ov[img_class] += 1\n",
    "    return class_counts_0, class_counts_1, class_counts_total, class_counts_0_ov, class_counts_1_ov, class_counts_total_ov\n"
   ]
  },
  {
   "cell_type": "code",
   "execution_count": null,
   "metadata": {},
   "outputs": [],
   "source": [
    "class_counts_0, class_counts_1, class_counts_total, class_counts_0_ov, class_counts_1_ov, class_counts_total_ov = get_class_counts(\"10-10\")"
   ]
  },
  {
   "cell_type": "code",
   "execution_count": null,
   "metadata": {},
   "outputs": [],
   "source": [
    "# for overlap and disjoint\n",
    "# plot actual class counts (# images any class appears for each class)\n",
    "# plot class counts how we count them in data generation for first 10\n",
    "\n",
    "# i want to know whether there is a correlation between the number of images the model sees for each class and its performance and that class\n",
    "# the number of images a model sees per class is the number of images the class appears in in voc\n",
    "# for the first step, that means counting all\n",
    "# firs the second step that means counting the one from step 1 dataset\n",
    "# for the first step, it should also include the number of generated images for that class\n",
    "\n",
    "# for every image get the present classes\n",
    "# if the image"
   ]
  },
  {
   "cell_type": "code",
   "execution_count": 14,
   "metadata": {},
   "outputs": [
    {
     "data": {
      "application/vnd.jupyter.widget-view+json": {
       "model_id": "1b9679d5ba504127841419cf97858c4c",
       "version_major": 2,
       "version_minor": 0
      },
      "text/plain": [
       "  0%|          | 0/10000 [00:00<?, ?it/s]"
      ]
     },
     "metadata": {},
     "output_type": "display_data"
    }
   ],
   "source": [
    "image_name = \"somethin/2007_000032.jpg\"\n",
    "images = []\n",
    "for i in tqdm(range(10000)):\n",
    "    # image = Image.open(f\"/home/thesis/marx/wilson_gen/WILSON/data/voc/SegmentationClassAug/{image_name[:-4]}.png\")\n",
    "    images.append(get_class(image_name))"
   ]
  },
  {
   "cell_type": "code",
   "execution_count": 29,
   "metadata": {},
   "outputs": [
    {
     "data": {
      "text/plain": [
       "8799"
      ]
     },
     "execution_count": 29,
     "metadata": {},
     "output_type": "execute_result"
    }
   ],
   "source": [
    "images[np.random.randint(0, 10000)]\n",
    "np.random.randint(0, 10000)"
   ]
  }
 ],
 "metadata": {
  "kernelspec": {
   "display_name": "hugface12",
   "language": "python",
   "name": "python3"
  },
  "language_info": {
   "codemirror_mode": {
    "name": "ipython",
    "version": 3
   },
   "file_extension": ".py",
   "mimetype": "text/x-python",
   "name": "python",
   "nbconvert_exporter": "python",
   "pygments_lexer": "ipython3",
   "version": "3.12.9"
  }
 },
 "nbformat": 4,
 "nbformat_minor": 2
}

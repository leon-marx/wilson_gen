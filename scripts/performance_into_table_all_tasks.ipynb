{
 "cells": [
  {
   "cell_type": "markdown",
   "id": "4996a141",
   "metadata": {},
   "source": [
    "# Print Test IoU after final incremental step for multistep runs"
   ]
  },
  {
   "cell_type": "code",
   "execution_count": 1,
   "id": "79e5292a",
   "metadata": {},
   "outputs": [
    {
     "name": "stderr",
     "output_type": "stream",
     "text": [
      "\u001b[34m\u001b[1mwandb\u001b[0m: Using wandb-core as the SDK backend.  Please refer to https://wandb.me/wandb-core for more information.\n",
      "\u001b[34m\u001b[1mwandb\u001b[0m: Currently logged in as: \u001b[33mgooogleon\u001b[0m (\u001b[33mgooogleon-uni-hd\u001b[0m). Use \u001b[1m`wandb login --relogin`\u001b[0m to force relogin\n"
     ]
    }
   ],
   "source": [
    "import numpy as np\n",
    "import matplotlib.pyplot as plt\n",
    "import wandb\n",
    "import os\n",
    "import json\n",
    "os.chdir(\"/home/thesis/marx/wilson_gen\")\n",
    "import sys\n",
    "sys.path.insert(0, \"/home/thesis/marx/wilson_gen/WILSON\")\n",
    "from WILSON import tasks\n",
    "\n",
    "wandb.login()\n",
    "api = wandb.Api()"
   ]
  },
  {
   "cell_type": "code",
   "execution_count": 2,
   "id": "bb65e276",
   "metadata": {},
   "outputs": [],
   "source": [
    "RUN_NAMES = [\n",
    "    \"Incr_Gen_Lora_RR\",\n",
    "    \"Incr_Gen_Lora_OD_Inp_RR\",\n",
    "    \"Incr_Gen_Base_RR\",\n",
    "    \"Incr_Gen_Base_OD_Inp_RR\",\n",
    "]\n",
    "\n",
    "TASKS = [\n",
    "    \"10-10\",\n",
    "    \"15-5\",\n",
    "    \"10-5\",\n",
    "    \"10-1\",\n",
    "    \"15-1\",\n",
    "]"
   ]
  },
  {
   "cell_type": "code",
   "execution_count": 6,
   "id": "aec8f010",
   "metadata": {},
   "outputs": [
    {
     "name": "stdout",
     "output_type": "stream",
     "text": [
      "[<Run gooogleon-uni-hd/WILSON/321lfj19 (finished)>, <Run gooogleon-uni-hd/WILSON/0y6hz3f9 (finished)>, <Run gooogleon-uni-hd/WILSON/h34pozkj (finished)>, <Run gooogleon-uni-hd/WILSON/srihq4e7 (finished)>, <Run gooogleon-uni-hd/WILSON/bpf1qeva (finished)>, <Run gooogleon-uni-hd/WILSON/k0yx9c14 (finished)>, <Run gooogleon-uni-hd/WILSON/pklazz7m (finished)>, <Run gooogleon-uni-hd/WILSON/dw82d5bd (finished)>, <Run gooogleon-uni-hd/WILSON/ry98p9l4 (finished)>, <Run gooogleon-uni-hd/WILSON/8n2o5q3q (finished)>, <Run gooogleon-uni-hd/WILSON/9p2wnktp (finished)>, <Run gooogleon-uni-hd/WILSON/n9ijm804 (finished)>, <Run gooogleon-uni-hd/WILSON/3zamt3yy (finished)>, <Run gooogleon-uni-hd/WILSON/67szcjnp (finished)>, <Run gooogleon-uni-hd/WILSON/9fno9d8y (finished)>, <Run gooogleon-uni-hd/WILSON/duhct6i3 (finished)>, <Run gooogleon-uni-hd/WILSON/utrj61uc (finished)>, <Run gooogleon-uni-hd/WILSON/970oelmf (finished)>, <Run gooogleon-uni-hd/WILSON/c8k73jkz (finished)>, <Run gooogleon-uni-hd/WILSON/von9fy9j (finished)>, <Run gooogleon-uni-hd/WILSON/dc1aag8g (finished)>, <Run gooogleon-uni-hd/WILSON/n6heygl4 (finished)>, <Run gooogleon-uni-hd/WILSON/8c8js12t (finished)>, <Run gooogleon-uni-hd/WILSON/nlwzb6nt (finished)>, <Run gooogleon-uni-hd/WILSON/660p6upd (finished)>, <Run gooogleon-uni-hd/WILSON/n58bb6ys (finished)>, <Run gooogleon-uni-hd/WILSON/iw7wcwn5 (finished)>, <Run gooogleon-uni-hd/WILSON/ho3yjx6r (finished)>, <Run gooogleon-uni-hd/WILSON/cv76e2qi (finished)>, <Run gooogleon-uni-hd/WILSON/df51bjtc (finished)>, <Run gooogleon-uni-hd/WILSON/sn75dqkv (finished)>, <Run gooogleon-uni-hd/WILSON/gjmxog5a (finished)>, <Run gooogleon-uni-hd/WILSON/6g03n4ku (finished)>, <Run gooogleon-uni-hd/WILSON/iebu43d1 (finished)>, <Run gooogleon-uni-hd/WILSON/vb9mgqp8 (finished)>, <Run gooogleon-uni-hd/WILSON/mz9qbbhp (finished)>, <Run gooogleon-uni-hd/WILSON/9emfoml2 (finished)>, <Run gooogleon-uni-hd/WILSON/676x6rjy (finished)>, <Run gooogleon-uni-hd/WILSON/2ivbhkxu (finished)>, <Run gooogleon-uni-hd/WILSON/e5xg22n3 (finished)>, <Run gooogleon-uni-hd/WILSON/zbkmwvax (finished)>, <Run gooogleon-uni-hd/WILSON/fyqm1t8x (finished)>, <Run gooogleon-uni-hd/WILSON/owzunejq (finished)>, <Run gooogleon-uni-hd/WILSON/44gq5z4z (finished)>, <Run gooogleon-uni-hd/WILSON/ph179idu (finished)>, <Run gooogleon-uni-hd/WILSON/wfr6edez (finished)>, <Run gooogleon-uni-hd/WILSON/efipr4oy (finished)>, <Run gooogleon-uni-hd/WILSON/b1xaisj9 (finished)>, <Run gooogleon-uni-hd/WILSON/w6hrqx62 (finished)>, <Run gooogleon-uni-hd/WILSON/1z5huz3g (finished)>, <Run gooogleon-uni-hd/WILSON/ywuvbivt (finished)>, <Run gooogleon-uni-hd/WILSON/p0aty25w (finished)>, <Run gooogleon-uni-hd/WILSON/r4kwtxt0 (finished)>, <Run gooogleon-uni-hd/WILSON/c96ohq3h (finished)>, <Run gooogleon-uni-hd/WILSON/f6tyu3po (finished)>, <Run gooogleon-uni-hd/WILSON/38dfhq4o (finished)>, <Run gooogleon-uni-hd/WILSON/zu70hswe (finished)>, <Run gooogleon-uni-hd/WILSON/zrzdyvuq (finished)>, <Run gooogleon-uni-hd/WILSON/azjz8pae (finished)>, <Run gooogleon-uni-hd/WILSON/t4dgo6me (finished)>, <Run gooogleon-uni-hd/WILSON/bisqytwj (finished)>, <Run gooogleon-uni-hd/WILSON/11pbhr2g (finished)>, <Run gooogleon-uni-hd/WILSON/9k3tx0bb (finished)>, <Run gooogleon-uni-hd/WILSON/04ql38i4 (finished)>, <Run gooogleon-uni-hd/WILSON/3ylb5qvp (finished)>, <Run gooogleon-uni-hd/WILSON/wcqrv3ua (finished)>, <Run gooogleon-uni-hd/WILSON/y9b7lz5r (finished)>, <Run gooogleon-uni-hd/WILSON/cmo01cih (finished)>, <Run gooogleon-uni-hd/WILSON/7myw73m9 (finished)>, <Run gooogleon-uni-hd/WILSON/tvdpcvcc (finished)>, <Run gooogleon-uni-hd/WILSON/yfdvicea (finished)>, <Run gooogleon-uni-hd/WILSON/11xdttjy (finished)>, <Run gooogleon-uni-hd/WILSON/5a2oys2p (finished)>, <Run gooogleon-uni-hd/WILSON/fc44rn5j (finished)>, <Run gooogleon-uni-hd/WILSON/dxlwnm9r (finished)>, <Run gooogleon-uni-hd/WILSON/hlttcklv (finished)>, <Run gooogleon-uni-hd/WILSON/fjcgjyym (finished)>, <Run gooogleon-uni-hd/WILSON/6g6zj1ei (finished)>, <Run gooogleon-uni-hd/WILSON/wrmlkwn4 (finished)>, <Run gooogleon-uni-hd/WILSON/f2kcluii (finished)>, <Run gooogleon-uni-hd/WILSON/8fs76f2u (finished)>, <Run gooogleon-uni-hd/WILSON/3f248c67 (finished)>, <Run gooogleon-uni-hd/WILSON/8me01f1n (finished)>, <Run gooogleon-uni-hd/WILSON/ns4vyyw5 (finished)>, <Run gooogleon-uni-hd/WILSON/82nq57vd (finished)>, <Run gooogleon-uni-hd/WILSON/qmxddonr (finished)>, <Run gooogleon-uni-hd/WILSON/jn8jnbod (finished)>, <Run gooogleon-uni-hd/WILSON/9n7pqt6w (finished)>, <Run gooogleon-uni-hd/WILSON/hcu4rpsz (finished)>, <Run gooogleon-uni-hd/WILSON/k9fndpwf (finished)>, <Run gooogleon-uni-hd/WILSON/7pbys0qk (finished)>, <Run gooogleon-uni-hd/WILSON/480cnc0c (finished)>, <Run gooogleon-uni-hd/WILSON/tolev0t4 (finished)>, <Run gooogleon-uni-hd/WILSON/hgpqt8q3 (finished)>, <Run gooogleon-uni-hd/WILSON/b2xpyu6o (finished)>, <Run gooogleon-uni-hd/WILSON/q2rq33fz (finished)>, <Run gooogleon-uni-hd/WILSON/gur2l6qc (finished)>, <Run gooogleon-uni-hd/WILSON/j74yzfdm (finished)>, <Run gooogleon-uni-hd/WILSON/wpqvuhoz (finished)>, <Run gooogleon-uni-hd/WILSON/bni4s46z (finished)>, <Run gooogleon-uni-hd/WILSON/cvpb8dbx (finished)>, <Run gooogleon-uni-hd/WILSON/3w09b1zi (finished)>, <Run gooogleon-uni-hd/WILSON/o18wucjx (finished)>, <Run gooogleon-uni-hd/WILSON/qmpo2cgd (finished)>, <Run gooogleon-uni-hd/WILSON/adgwovl5 (finished)>, <Run gooogleon-uni-hd/WILSON/impyhmju (finished)>, <Run gooogleon-uni-hd/WILSON/ka1df1mo (finished)>, <Run gooogleon-uni-hd/WILSON/9isusohz (finished)>, <Run gooogleon-uni-hd/WILSON/b16ge79n (finished)>, <Run gooogleon-uni-hd/WILSON/iu84q39l (finished)>, <Run gooogleon-uni-hd/WILSON/k7e9qdrk (finished)>, <Run gooogleon-uni-hd/WILSON/8c4q48hh (finished)>, <Run gooogleon-uni-hd/WILSON/cm26nuje (finished)>, <Run gooogleon-uni-hd/WILSON/m0aum73l (finished)>, <Run gooogleon-uni-hd/WILSON/t21zv07g (finished)>, <Run gooogleon-uni-hd/WILSON/1l8aqqa8 (finished)>, <Run gooogleon-uni-hd/WILSON/eh34q8gt (finished)>, <Run gooogleon-uni-hd/WILSON/xzg6lgkf (finished)>, <Run gooogleon-uni-hd/WILSON/kf92u457 (finished)>, <Run gooogleon-uni-hd/WILSON/wdj85n8m (finished)>, <Run gooogleon-uni-hd/WILSON/5vo2oxz6 (finished)>, <Run gooogleon-uni-hd/WILSON/elg0c9a5 (finished)>, <Run gooogleon-uni-hd/WILSON/ayeyaewt (finished)>, <Run gooogleon-uni-hd/WILSON/x8ogqlkj (finished)>, <Run gooogleon-uni-hd/WILSON/pyv9przn (finished)>, <Run gooogleon-uni-hd/WILSON/1k509a0j (finished)>, <Run gooogleon-uni-hd/WILSON/oaomc8d2 (finished)>, <Run gooogleon-uni-hd/WILSON/1iuyic9h (finished)>, <Run gooogleon-uni-hd/WILSON/3g89jrs9 (finished)>, <Run gooogleon-uni-hd/WILSON/wg6addpo (finished)>, <Run gooogleon-uni-hd/WILSON/a7hispou (finished)>, <Run gooogleon-uni-hd/WILSON/i1pazp92 (finished)>, <Run gooogleon-uni-hd/WILSON/a5ywy8iw (finished)>, <Run gooogleon-uni-hd/WILSON/fm3xbslx (finished)>, <Run gooogleon-uni-hd/WILSON/wblxshcn (finished)>, <Run gooogleon-uni-hd/WILSON/4mgfdhiy (finished)>, <Run gooogleon-uni-hd/WILSON/k4avxtwj (finished)>, <Run gooogleon-uni-hd/WILSON/0r2yr2ad (finished)>, <Run gooogleon-uni-hd/WILSON/8h4ioubg (finished)>, <Run gooogleon-uni-hd/WILSON/5pdd0pp6 (finished)>, <Run gooogleon-uni-hd/WILSON/xms7ie8v (finished)>, <Run gooogleon-uni-hd/WILSON/getjln7q (finished)>, <Run gooogleon-uni-hd/WILSON/mnmx5vh8 (finished)>, <Run gooogleon-uni-hd/WILSON/2cr9ckj1 (finished)>, <Run gooogleon-uni-hd/WILSON/e09cfqcl (finished)>, <Run gooogleon-uni-hd/WILSON/04zqy8xk (finished)>, <Run gooogleon-uni-hd/WILSON/97b1a1mn (finished)>, <Run gooogleon-uni-hd/WILSON/co8hov21 (finished)>, <Run gooogleon-uni-hd/WILSON/ywbu3ubl (finished)>, <Run gooogleon-uni-hd/WILSON/thtvvduh (finished)>, <Run gooogleon-uni-hd/WILSON/eyj5j505 (finished)>, <Run gooogleon-uni-hd/WILSON/pno4szkj (finished)>, <Run gooogleon-uni-hd/WILSON/fdp4xftt (finished)>, <Run gooogleon-uni-hd/WILSON/ymii97fd (finished)>, <Run gooogleon-uni-hd/WILSON/7ap12fzw (finished)>, <Run gooogleon-uni-hd/WILSON/nbyzvxxf (finished)>, <Run gooogleon-uni-hd/WILSON/1drmc510 (finished)>, <Run gooogleon-uni-hd/WILSON/o1p5999c (finished)>]\n"
     ]
    }
   ],
   "source": [
    "runs = api.runs(\"gooogleon-uni-hd/WILSON\")\n",
    "runs = [run for run in runs if \"final_exp_1\" in run.tags]\n",
    "print(runs)"
   ]
  },
  {
   "cell_type": "code",
   "execution_count": 12,
   "id": "4d6e17f6",
   "metadata": {},
   "outputs": [],
   "source": [
    "runs_and_values = {}\n",
    "for run in runs:\n",
    "    if run.state == \"finished\":\n",
    "        final_miou = run.summary[\"Final/MeanIoU_All\"]\n",
    "        dense_miou = run.summary[\"Final/MeanIoU_Dense\"]\n",
    "        incr_miou = run.summary[\"Final/MeanIoU_Incr\"]\n",
    "        if final_miou == \"X\":\n",
    "            continue\n",
    "        else:\n",
    "            ov_string = \"ov\" if \"ov\" in run.name else \"dj\"\n",
    "            run_name = run.name.replace(\"-ov\", \"\")\n",
    "            if run_name not in runs_and_values:\n",
    "                runs_and_values[run_name] = {\n",
    "                    ov_string: {\n",
    "                        \"final_miou\": final_miou,\n",
    "                        \"dense_miou\": dense_miou,\n",
    "                        \"incr_miou\": incr_miou,\n",
    "                    }\n",
    "                }\n",
    "            else:\n",
    "                if ov_string not in runs_and_values[run_name]:\n",
    "                    runs_and_values[run_name][ov_string] = {\n",
    "                        \"final_miou\": final_miou,\n",
    "                        \"dense_miou\": dense_miou,\n",
    "                        \"incr_miou\": incr_miou,\n",
    "                    }\n",
    "                else:\n",
    "                    print(\"Warning: Run already exists in runs_and_values\")\n",
    "    else:\n",
    "        raise ValueError(\"Final mIoU should not be X\")"
   ]
  },
  {
   "cell_type": "code",
   "execution_count": 21,
   "id": "a718d1ff",
   "metadata": {},
   "outputs": [
    {
     "name": "stdout",
     "output_type": "stream",
     "text": [
      "10-10\n",
      "                        Ours: Lora & 67.1 & 52.3 & 61.1 & 72.1 & 56.9 & 65.7 \\\\\n",
      "                        Ours: Lora (OD_INP) & 65.9 & 49.1 & 59.0 & 72.2 & 56.9 & 65.7 \\\\\n",
      "                        Ours: Base & 67.3 & 52.4 & 61.2 & 71.6 & 56.8 & 65.4 \\\\\n",
      "                        Ours: Base (OD_INP) & 65.9 & 49.0 & 59.0 & 71.8 & 56.7 & 65.4 \\\\\n",
      "15-5\n",
      "                        Ours: Lora & 77.2 & 45.9 & 70.3 & 77.8 & 46.9 & 71.0 \\\\\n",
      "                        Ours: Lora (OD_INP) & 76.6 & 41.4 & 68.8 & 78.0 & 44.4 & 70.5 \\\\\n",
      "                        Ours: Base & 77.0 & 45.4 & 70.1 & 77.6 & 46.4 & 70.8 \\\\\n",
      "                        Ours: Base (OD_INP) & 76.5 & 42.6 & 69.1 & 77.7 & 44.5 & 70.3 \\\\\n",
      "10-5\n",
      "                        Ours: Lora & 65.6 & 46.2 & 57.4 & 69.8 & 50.9 & 61.6 \\\\\n",
      "                        Ours: Lora (OD_INP) & 64.6 & 41.2 & 54.4 & 70.3 & 48.1 & 60.3 \\\\\n",
      "                        Ours: Base & 65.9 & 45.6 & 57.2 & 69.4 & 50.8 & 61.3 \\\\\n",
      "                        Ours: Base (OD_INP) & 65.3 & 40.3 & 54.2 & 70.7 & 48.3 & 60.7 \\\\\n",
      "10-1\n",
      "                        Ours: Lora & 40.2 & 15.2 & 26.6 & 32.5 & 11.5 & 22.8 \\\\\n",
      "                        Ours: Lora (OD_INP) & 38.7 & 13.2 & 25.8 & 46.2 & 13.7 & 29.8 \\\\\n",
      "                        Ours: Base & 45.1 & 15.3 & 29.4 & 47.1 & 9.8 & 27.7 \\\\\n",
      "                        Ours: Base (OD_INP) & 42.4 & 16.6 & 29.7 & 41.4 & 16.8 & 29.3 \\\\\n",
      "15-1\n",
      "                        Ours: Lora & 65.3 & 12.8 & 51.3 & 65.5 & 11.2 & 49.6 \\\\\n",
      "                        Ours: Lora (OD_INP) & 65.8 & 12.0 & 51.4 & 67.7 & 15.1 & 53.5 \\\\\n",
      "                        Ours: Base & 67.4 & 10.6 & 51.6 & 72.8 & 14.5 & 57.7 \\\\\n",
      "                        Ours: Base (OD_INP) & 70.8 & 17.1 & 56.3 & 72.9 & 17.4 & 57.9 \\\\\n"
     ]
    }
   ],
   "source": [
    "for task in TASKS:\n",
    "    print(task)\n",
    "    for rn in RUN_NAMES:\n",
    "        key = f\"voc-{task}_{rn}\"\n",
    "        rn = rn.replace(\"_RR\", \"\")\n",
    "        rn = rn.replace(\"Incr_Gen_\", \"\")\n",
    "        rn = rn.replace(\"_OD_Inp\", \" (OD_INP)\")\n",
    "        # print(rn)\n",
    "        # print(key)\n",
    "        to_print = f\"                        Ours: {rn} & \"\n",
    "        to_print += f\"{np.round(100 * runs_and_values[key]['dj']['dense_miou'], 1)} & \"\n",
    "        to_print += f\"{np.round(100 * runs_and_values[key]['dj']['incr_miou'], 1)} & \"\n",
    "        to_print += f\"{np.round(100 * runs_and_values[key]['dj']['final_miou'], 1)} & \"\n",
    "        to_print += f\"{np.round(100 * runs_and_values[key]['ov']['dense_miou'], 1)} & \"\n",
    "        to_print += f\"{np.round(100 * runs_and_values[key]['ov']['incr_miou'], 1)} & \"\n",
    "        to_print += f\"{np.round(100 * runs_and_values[key]['ov']['final_miou'], 1)} \\\\\\\\\"\n",
    "        print(to_print)"
   ]
  },
  {
   "cell_type": "code",
   "execution_count": 68,
   "id": "4d4350d1",
   "metadata": {},
   "outputs": [],
   "source": [
    "def get_results(task, ov, od_inp):\n",
    "    for run in recent_runs:\n",
    "        if (run.config[\"task\"] == task) & (run.config[\"overlap\"] == ov) & (run.config[\"inpainting_old_od\"] == od_inp):\n",
    "            if run.state == \"finished\":\n",
    "                if run.summary[\"Final/MeanIoU_All\"] == \"X\":\n",
    "                    continue\n",
    "                else:\n",
    "                    final_miou = np.round(float(run.summary[\"Final/MeanIoU_All\"]) * 100, 2)\n",
    "                    dense_miou = np.round(float(run.summary[\"Final/MeanIoU_Dense\"]) * 100, 2)\n",
    "                    incr_miou = np.round(float(run.summary[\"Final/MeanIoU_Incr\"]) * 100, 2)\n",
    "                    print(run.name)\n",
    "                    print(f\"& {dense_miou} & {incr_miou} & {final_miou} & - \")\n",
    "    return None"
   ]
  },
  {
   "cell_type": "code",
   "execution_count": 76,
   "id": "ce98dfbf",
   "metadata": {},
   "outputs": [
    {
     "name": "stdout",
     "output_type": "stream",
     "text": [
      "voc-10-1-ov_Incr_Gen_Lora_OD_Inp_RR\n",
      "& 46.23 & 13.7 & 29.78 & - \n"
     ]
    }
   ],
   "source": [
    "#           task    overlap   od_inp\n",
    "get_results(\"10-1\", True, True)"
   ]
  },
  {
   "cell_type": "code",
   "execution_count": null,
   "id": "f4187554",
   "metadata": {},
   "outputs": [],
   "source": []
  }
 ],
 "metadata": {
  "kernelspec": {
   "display_name": "combined_env9",
   "language": "python",
   "name": "python3"
  },
  "language_info": {
   "codemirror_mode": {
    "name": "ipython",
    "version": 3
   },
   "file_extension": ".py",
   "mimetype": "text/x-python",
   "name": "python",
   "nbconvert_exporter": "python",
   "pygments_lexer": "ipython3",
   "version": "3.8.20"
  }
 },
 "nbformat": 4,
 "nbformat_minor": 5
}

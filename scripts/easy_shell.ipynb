{
 "cells": [
  {
   "cell_type": "code",
   "execution_count": 15,
   "metadata": {},
   "outputs": [],
   "source": [
    "import os\n",
    "import shutil"
   ]
  },
  {
   "cell_type": "code",
   "execution_count": 16,
   "metadata": {},
   "outputs": [
    {
     "data": {
      "text/plain": [
       "['stablediffusion',\n",
       " 'scripts',\n",
       " 'WILSON_WIP',\n",
       " 'README.md',\n",
       " 'generative_models',\n",
       " '.git',\n",
       " 'Web-WILSS',\n",
       " 'WILSON',\n",
       " '.gitignore',\n",
       " 'LICENSE']"
      ]
     },
     "execution_count": 16,
     "metadata": {},
     "output_type": "execute_result"
    }
   ],
   "source": [
    "os.chdir(\"/home/thesis/marx/wilson_gen\")\n",
    "os.listdir()"
   ]
  },
  {
   "cell_type": "code",
   "execution_count": 17,
   "metadata": {},
   "outputs": [
    {
     "data": {
      "text/plain": [
       "0"
      ]
     },
     "execution_count": 17,
     "metadata": {},
     "output_type": "execute_result"
    }
   ],
   "source": [
    "os.system(\"cp -r stablediffusion/gen_imgs WILSON_WIP/replay_data/gen_imgs\")"
   ]
  },
  {
   "cell_type": "code",
   "execution_count": 18,
   "metadata": {},
   "outputs": [
    {
     "data": {
      "text/plain": [
       "0"
      ]
     },
     "execution_count": 18,
     "metadata": {},
     "output_type": "execute_result"
    }
   ],
   "source": [
    "os.system(\"cp -r WILSON_WIP/replay_data/gen_imgs WILSON_WIP/replay_data/10-10\")"
   ]
  },
  {
   "cell_type": "code",
   "execution_count": 19,
   "metadata": {},
   "outputs": [
    {
     "data": {
      "text/plain": [
       "['sofa',\n",
       " 'motorbike',\n",
       " 'dining_table',\n",
       " 'person',\n",
       " 'boat',\n",
       " 'chair',\n",
       " 'horse',\n",
       " 'bicycle',\n",
       " 'bus',\n",
       " 'car',\n",
       " 'potted_plant',\n",
       " 'aeroplane',\n",
       " 'bird',\n",
       " 'cat',\n",
       " 'tv_monitor',\n",
       " 'train',\n",
       " 'sheep',\n",
       " 'bottle',\n",
       " 'cow',\n",
       " 'dog']"
      ]
     },
     "execution_count": 19,
     "metadata": {},
     "output_type": "execute_result"
    }
   ],
   "source": [
    "os.chdir(\"WILSON_WIP/replay_data/10-10\")\n",
    "os.listdir()"
   ]
  },
  {
   "cell_type": "code",
   "execution_count": 21,
   "metadata": {},
   "outputs": [],
   "source": [
    "dirnames = [\n",
    "    'sofa',\n",
    "    'motorbike',\n",
    "    'dining_table',\n",
    "    'person',\n",
    "    'boat',\n",
    "    'chair',\n",
    "    'horse',\n",
    "    'bicycle',\n",
    "    'bus',\n",
    "    'car',\n",
    "    'potted_plant',\n",
    "    'aeroplane',\n",
    "    'bird',\n",
    "    'cat',\n",
    "    'tv_monitor',\n",
    "    'train',\n",
    "    'sheep',\n",
    "    'bottle',\n",
    "    'cow',\n",
    "    'dog'\n",
    "]\n",
    "for dirname in dirnames:\n",
    "    os.makedirs(f\"{dirname}/images\", exist_ok=True)\n",
    "    os.makedirs(f\"{dirname}/pseudolabels\", exist_ok=True)\n",
    "    os.system(f\"mv {dirname}/*.png {dirname}/images\")\n",
    "    # os.system(f\"cp -r {dirname}/*.png {dirname}/pseudolabels/\")"
   ]
  },
  {
   "cell_type": "code",
   "execution_count": 23,
   "metadata": {},
   "outputs": [],
   "source": [
    "for dirname in dirnames:\n",
    "    os.system(f\"cp -r {dirname}/images/*.png {dirname}/pseudolabels/\")"
   ]
  },
  {
   "cell_type": "code",
   "execution_count": 24,
   "metadata": {},
   "outputs": [],
   "source": [
    "import pickle\n",
    "import numpy as np\n",
    "for dirname in dirnames:\n",
    "    class_dict = {}\n",
    "    for img in os.listdir(f\"{dirname}/images\"):\n",
    "        class_dict[img] = np.random.randint(0, 2, 20, dtype=np.uint8)\n",
    "    with open(f\"{dirname}/pseudolabels_1h.pkl\", \"wb\") as f:\n",
    "        pickle.dump(class_dict, f)"
   ]
  },
  {
   "cell_type": "code",
   "execution_count": null,
   "metadata": {},
   "outputs": [],
   "source": []
  }
 ],
 "metadata": {
  "kernelspec": {
   "display_name": "test3",
   "language": "python",
   "name": "python3"
  },
  "language_info": {
   "codemirror_mode": {
    "name": "ipython",
    "version": 3
   },
   "file_extension": ".py",
   "mimetype": "text/x-python",
   "name": "python",
   "nbconvert_exporter": "python",
   "pygments_lexer": "ipython3",
   "version": "3.13.0"
  }
 },
 "nbformat": 4,
 "nbformat_minor": 2
}

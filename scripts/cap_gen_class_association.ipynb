{
 "cells": [
  {
   "cell_type": "code",
   "execution_count": 1,
   "metadata": {},
   "outputs": [],
   "source": [
    "import numpy as np\n",
    "import os\n",
    "from tqdm import tqdm\n",
    "from PIL import Image\n",
    "import shutil\n",
    "import matplotlib.pyplot as plt"
   ]
  },
  {
   "cell_type": "code",
   "execution_count": 24,
   "metadata": {},
   "outputs": [],
   "source": [
    "# for img in os.listdir(\"../stablediffusion/gen_cap_10_10_ov\"):\n",
    "#     new_img = img.split(\"_\")[-1]\n",
    "#     shutil.move(f\"../stablediffusion/gen_cap_10_10_ov/{img}\", f\"../stablediffusion/gen_cap_10_10_ov/{new_img}\")"
   ]
  },
  {
   "cell_type": "code",
   "execution_count": 2,
   "metadata": {},
   "outputs": [],
   "source": [
    "TASK = \"10-10\"\n",
    "OV = True\n",
    "\n",
    "ov_string = \"-ov\" if OV else \"\"\n",
    "task_and_ov = TASK + ov_string"
   ]
  },
  {
   "cell_type": "code",
   "execution_count": 5,
   "metadata": {},
   "outputs": [],
   "source": [
    "classes = [\n",
    "    \"aeroplane\",\n",
    "    \"bicycle\",\n",
    "    \"bird\",\n",
    "    \"boat\",\n",
    "    \"bottle\",\n",
    "    \"bus\",\n",
    "    \"car\",\n",
    "    \"cat\",\n",
    "    \"chair\",\n",
    "    \"cow\",\n",
    "    # \"dining_table\",\n",
    "    # \"dog\",\n",
    "    # \"horse\",\n",
    "    # \"motorbike\",\n",
    "    # \"person\",\n",
    "    # \"potted_plant\",\n",
    "    # \"sheep\",\n",
    "    # \"sofa\",\n",
    "    # \"train\",\n",
    "    # \"tv_monitor\",\n",
    "]"
   ]
  },
  {
   "cell_type": "code",
   "execution_count": 8,
   "metadata": {},
   "outputs": [
    {
     "name": "stderr",
     "output_type": "stream",
     "text": [
      "  0%|          | 22/6139 [00:00<00:28, 215.60it/s]"
     ]
    },
    {
     "name": "stderr",
     "output_type": "stream",
     "text": [
      "  1%|          | 48/6139 [00:00<00:25, 241.01it/s]"
     ]
    },
    {
     "name": "stdout",
     "output_type": "stream",
     "text": [
      "aeroplane_00115.png\n",
      "aeroplane_00169.png\n",
      "aeroplane_00175.png\n",
      "aeroplane_00347.png\n",
      "aeroplane_00539.png\n",
      "aeroplane_00611.png\n"
     ]
    },
    {
     "name": "stderr",
     "output_type": "stream",
     "text": [
      "  2%|▏         | 101/6139 [00:00<00:23, 255.27it/s]"
     ]
    },
    {
     "name": "stdout",
     "output_type": "stream",
     "text": [
      "aeroplane_00961.png\n",
      "aeroplane_01066.png\n",
      "aeroplane_01310.png\n",
      "aeroplane_01495.png\n"
     ]
    },
    {
     "name": "stderr",
     "output_type": "stream",
     "text": [
      "100%|██████████| 6139/6139 [00:22<00:00, 272.03it/s]\n"
     ]
    }
   ],
   "source": [
    "idxs_path = f\"/home/thesis/marx/wilson_gen/WILSON/data/voc/{task_and_ov}/train-0.npy\"\n",
    "idxs = np.load(idxs_path)\n",
    "# print(len(idxs))\n",
    "# print(idxs)\n",
    "with open(\"/home/thesis/marx/wilson_gen/WILSON/data/voc/splits/train_aug.txt\") as f:\n",
    "    lines = f.readlines()\n",
    "    lines = [l.strip().split(\" \")[1][1:] for l in lines]\n",
    "    image_names = np.array(lines)[idxs]\n",
    "gen_cap_imgs = sorted(os.listdir(f\"/home/thesis/marx/wilson_gen/stablediffusion/gen_cap_{task_and_ov.replace('-', '_')}\"))\n",
    "for i, image_name in enumerate(tqdm(image_names)):\n",
    "    labels = Image.open(f\"/home/thesis/marx/wilson_gen/WILSON/data/voc/{image_name}\")\n",
    "    labels = np.array(labels)\n",
    "    uniques, counts = np.unique(labels, return_counts=True)\n",
    "    if 0 in uniques:\n",
    "        uniques = uniques[1:]\n",
    "        counts = counts[1:]\n",
    "    uniques = [unq for unq in uniques if unq <= 10]\n",
    "    counts = counts[:len(uniques)]\n",
    "    principle_class = classes[uniques[np.argmax(counts)]-1]\n",
    "    ##########\n",
    "    # fig, axes = plt.subplots(1, 2, figsize=(8, 4))\n",
    "    # axes[0].imshow(labels)\n",
    "    # axes[0].set_title(uniques)\n",
    "    # axes[1].imshow(Image.open(\"/home/thesis/marx/wilson_gen/stablediffusion/gen_cap_10_10_ov/\" + gen_cap_imgs[i]).convert(\"RGB\"))\n",
    "    # axes[1].set_title(principle_class + gen_cap_imgs[i])\n",
    "    # plt.show()\n",
    "    ##########\n",
    "    new_image_name = f\"{principle_class}_{gen_cap_imgs[i]}\"\n",
    "    shutil.move(f\"/home/thesis/marx/wilson_gen/stablediffusion/gen_cap_{task_and_ov.replace('-', '_')}/{gen_cap_imgs[i]}\", f\"/home/thesis/marx/wilson_gen/stablediffusion/gen_cap_{task_and_ov.replace('-', '_')}/{new_image_name}\")\n"
   ]
  },
  {
   "cell_type": "code",
   "execution_count": null,
   "metadata": {},
   "outputs": [],
   "source": []
  }
 ],
 "metadata": {
  "kernelspec": {
   "display_name": "combined_env9",
   "language": "python",
   "name": "python3"
  },
  "language_info": {
   "codemirror_mode": {
    "name": "ipython",
    "version": 3
   },
   "file_extension": ".py",
   "mimetype": "text/x-python",
   "name": "python",
   "nbconvert_exporter": "python",
   "pygments_lexer": "ipython3",
   "version": "3.8.20"
  }
 },
 "nbformat": 4,
 "nbformat_minor": 2
}
